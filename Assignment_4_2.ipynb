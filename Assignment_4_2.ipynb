{
 "cells": [
  {
   "cell_type": "code",
   "execution_count": 1,
   "id": "43eae2e8-20b7-4568-ba17-01adc14ddfc9",
   "metadata": {},
   "outputs": [],
   "source": [
    "# Q1. Explain Class and Object with respect to Object-Oriented Programming. Give a suitable \n",
    "#     example."
   ]
  },
  {
   "cell_type": "code",
   "execution_count": 13,
   "id": "f32f7b01-78bb-4397-a6c2-dae0ad2d7de4",
   "metadata": {},
   "outputs": [],
   "source": [
    "# Ans- Class:- A class is considered as a blueprint of objects. We can think of the class as a \n",
    "#              sketch (prototype) of a house. It contains all the details about the floors, doors,\n",
    "#              windows, etc. Based on these descriptions we build the house. House is the object.\n",
    "\n",
    "#      Object:- An object is called an instance of a class. For example, suppose Bike is a class \n",
    "#               then we can create objects like bike1, bike2, etc from the class.\n",
    "\n",
    "# Example:-\n",
    "class bike :\n",
    "    \n",
    "    def bike_details(self,name_of_bike, speed):\n",
    "        self.name_of_bike = name_of_bike\n",
    "        self.speed = speed\n"
   ]
  },
  {
   "cell_type": "code",
   "execution_count": 14,
   "id": "b395c409-1264-4841-9431-a273dc032fe1",
   "metadata": {},
   "outputs": [],
   "source": [
    "b.bike_details(\"bajaj-V\", 180)"
   ]
  },
  {
   "cell_type": "code",
   "execution_count": 15,
   "id": "643d0ded-95fa-40d5-aade-c39fa1ea2894",
   "metadata": {},
   "outputs": [
    {
     "data": {
      "text/plain": [
       "'bajaj-V'"
      ]
     },
     "execution_count": 15,
     "metadata": {},
     "output_type": "execute_result"
    }
   ],
   "source": [
    "b.name_of_bike"
   ]
  },
  {
   "cell_type": "code",
   "execution_count": 16,
   "id": "8c26b3c8-afd3-4ab7-8207-d8ad97f3ec58",
   "metadata": {},
   "outputs": [
    {
     "data": {
      "text/plain": [
       "180"
      ]
     },
     "execution_count": 16,
     "metadata": {},
     "output_type": "execute_result"
    }
   ],
   "source": [
    "b.speed"
   ]
  },
  {
   "cell_type": "code",
   "execution_count": 35,
   "id": "00041fd0-6651-45f8-8a54-141d43ba4176",
   "metadata": {},
   "outputs": [],
   "source": [
    "# Q2. Name the four pillars of OOPs."
   ]
  },
  {
   "cell_type": "code",
   "execution_count": 17,
   "id": "f5f86049-4fbb-4c6c-a37d-e51cb2074e91",
   "metadata": {},
   "outputs": [],
   "source": [
    "# Ans- The Four Pillars of Object Oriented Programming\n",
    "#      1. Abstraction.\n",
    "#      2. Encapsulation.\n",
    "#      3. Inheritance.\n",
    "#      4. Polymorphism."
   ]
  },
  {
   "cell_type": "code",
   "execution_count": null,
   "id": "b3a03387-f1bd-4ba8-b1bb-65a629a0bf12",
   "metadata": {},
   "outputs": [],
   "source": [
    "# Q3. Explain why the __init__() function is used. Give a suitable example."
   ]
  },
  {
   "cell_type": "code",
   "execution_count": 29,
   "id": "34e609ab-b37e-427e-99b7-081efeb9212d",
   "metadata": {},
   "outputs": [],
   "source": [
    "# Ans- There is a method called __init__(). This method is called automatically whenever a new \n",
    "#      object of a class is created. This type of function is also known as the constructor \n",
    "#      function. A constructor function is a function that is called every time a new class \n",
    "#      object is created. \n",
    "\n",
    "# Example:-\n",
    "\n",
    "class student_details :\n",
    "    \n",
    "    def __init__(self, name, subject):\n",
    "        self.name = name\n",
    "        self.subject = subject"
   ]
  },
  {
   "cell_type": "code",
   "execution_count": 30,
   "id": "b4d96a7a-fa58-4110-a5e6-a412f4a9afd1",
   "metadata": {},
   "outputs": [],
   "source": [
    "student = student_details(\"rohan\", [\"political science\", \"history\", \"economics\"])"
   ]
  },
  {
   "cell_type": "code",
   "execution_count": 31,
   "id": "1be529f7-c489-4535-bdcf-f4fae13535dc",
   "metadata": {},
   "outputs": [
    {
     "data": {
      "text/plain": [
       "'rohan'"
      ]
     },
     "execution_count": 31,
     "metadata": {},
     "output_type": "execute_result"
    }
   ],
   "source": [
    "student.name"
   ]
  },
  {
   "cell_type": "code",
   "execution_count": 32,
   "id": "225de9fd-00ff-4462-8129-fcbf642ee8bb",
   "metadata": {},
   "outputs": [
    {
     "data": {
      "text/plain": [
       "['political science', 'history', 'economics']"
      ]
     },
     "execution_count": 32,
     "metadata": {},
     "output_type": "execute_result"
    }
   ],
   "source": [
    "student.subject"
   ]
  },
  {
   "cell_type": "code",
   "execution_count": 33,
   "id": "9fc23d13-f917-49db-9369-d5b75cb14ed8",
   "metadata": {},
   "outputs": [],
   "source": [
    "# Q4. Why self is used in OOPs?"
   ]
  },
  {
   "cell_type": "code",
   "execution_count": null,
   "id": "22eba91f-97d5-4101-9fdf-be48b4c822d5",
   "metadata": {},
   "outputs": [],
   "source": [
    "# Ans- The self variable is used to represent the instance of the class which is often used in \n",
    "#      object-oriented programming. It works as a reference to the object. Python uses the self \n",
    "#      parameter to refer to instance attributes and methods of the class."
   ]
  },
  {
   "cell_type": "code",
   "execution_count": null,
   "id": "0e67c411-d436-4c01-b4e1-6fd58183c2f9",
   "metadata": {},
   "outputs": [],
   "source": [
    "# Q5. What is inheritance? Give an example for each type of inheritance."
   ]
  },
  {
   "cell_type": "code",
   "execution_count": 35,
   "id": "6c440dcd-be99-4d52-aa2b-4a5ac046f297",
   "metadata": {},
   "outputs": [],
   "source": [
    "# Ans- Inheritance allows us to define a class that inherits all the methods and properties from \n",
    "#      another class. Parent class is the class being inherited from, also called base class. \n",
    "#      Child class is the class that inherits from another class, also called derived class.\n",
    "\n",
    "# Example:-\n",
    "\n",
    "class class_1 :\n",
    "    \n",
    "    def student_details(self):\n",
    "        print(\"Here, you have to give student details\")\n",
    "        "
   ]
  },
  {
   "cell_type": "code",
   "execution_count": 38,
   "id": "5c6f5fe7-5685-49cc-ba07-b2fbf7f40e79",
   "metadata": {},
   "outputs": [],
   "source": [
    "class class_2(class_1) :\n",
    "    \n",
    "    def student_assignment(self):\n",
    "        print(\"Here, you can check your assignment \")"
   ]
  },
  {
   "cell_type": "code",
   "execution_count": 40,
   "id": "ba26ba46-fca1-4f04-8fd5-628053762bd8",
   "metadata": {},
   "outputs": [],
   "source": [
    "class class_3(class_2) :\n",
    "    \n",
    "    def student_mark(self):\n",
    "        print(\"Here, you can check your result\")"
   ]
  },
  {
   "cell_type": "code",
   "execution_count": 41,
   "id": "836eccf2-5e0c-4a8c-8041-32f39be3bfcc",
   "metadata": {},
   "outputs": [],
   "source": [
    "student = class_3()"
   ]
  },
  {
   "cell_type": "code",
   "execution_count": 43,
   "id": "00c789c5-4f22-4c42-80e4-e184e6340f5e",
   "metadata": {},
   "outputs": [
    {
     "name": "stdout",
     "output_type": "stream",
     "text": [
      "Here, you can check your assignment \n"
     ]
    }
   ],
   "source": [
    "student.student_assignment()"
   ]
  },
  {
   "cell_type": "code",
   "execution_count": 44,
   "id": "cb69c46d-d443-455d-946e-7ddf3ee21cd5",
   "metadata": {},
   "outputs": [
    {
     "name": "stdout",
     "output_type": "stream",
     "text": [
      "Here, you have to give student details\n"
     ]
    }
   ],
   "source": [
    "student.student_details()"
   ]
  },
  {
   "cell_type": "code",
   "execution_count": 45,
   "id": "774a6679-1cbb-4541-805d-08d3223fb477",
   "metadata": {},
   "outputs": [
    {
     "name": "stdout",
     "output_type": "stream",
     "text": [
      "Here, you can check your result\n"
     ]
    }
   ],
   "source": [
    "student.student_mark()"
   ]
  },
  {
   "cell_type": "code",
   "execution_count": 47,
   "id": "b3e8d213-7d3b-44dc-8742-92c7d6c38dfd",
   "metadata": {},
   "outputs": [],
   "source": [
    "                            # or\n",
    "    \n",
    "class class_4 :\n",
    "    \n",
    "    def mentor_name(self):\n",
    "        print(\"Mentor of Data science : sudh, krish\")\n",
    "            "
   ]
  },
  {
   "cell_type": "code",
   "execution_count": 54,
   "id": "0fce1063-cf5f-46b9-b2eb-ccedb0e7a5d9",
   "metadata": {},
   "outputs": [],
   "source": [
    "class class_5 :\n",
    "    \n",
    "    def mentor_email(self):\n",
    "        print(\"Mentor email id : sudh@gmail.com , krish@gmail.com \")"
   ]
  },
  {
   "cell_type": "code",
   "execution_count": 51,
   "id": "b6d15ef3-388b-4f68-b6df-54485d2b942c",
   "metadata": {},
   "outputs": [],
   "source": [
    "class class_6 :\n",
    "    \n",
    "    def student_mark(self):\n",
    "        print(\"Here, you can check y"
   ]
  },
  {
   "cell_type": "code",
   "execution_count": 53,
   "id": "26468cbd-bdfa-4d6d-b6df-1b839316bda2",
   "metadata": {},
   "outputs": [],
   "source": [
    "class class_7(class_4,class_5,class_6):\n",
    "    pass"
   ]
  },
  {
   "cell_type": "code",
   "execution_count": null,
   "id": "2e623fd5-bae8-4e0a-b3c3-2568a4d51897",
   "metadata": {},
   "outputs": [],
   "source": [
    "student_1 = "
   ]
  }
 ],
 "metadata": {
  "kernelspec": {
   "display_name": "Python 3 (ipykernel)",
   "language": "python",
   "name": "python3"
  },
  "language_info": {
   "codemirror_mode": {
    "name": "ipython",
    "version": 3
   },
   "file_extension": ".py",
   "mimetype": "text/x-python",
   "name": "python",
   "nbconvert_exporter": "python",
   "pygments_lexer": "ipython3",
   "version": "3.10.8"
  }
 },
 "nbformat": 4,
 "nbformat_minor": 5
}
